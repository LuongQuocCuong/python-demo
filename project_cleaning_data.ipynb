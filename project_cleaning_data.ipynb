{
 "cells": [
  {
   "cell_type": "markdown",
   "metadata": {},
   "source": [
    "# Yêu Cầu\n",
    "1. Clean the names of columns to lowercase and remove any empty columns if necessary.\n",
    "2. Change the date column to the same format ‘YYYY-MM-DD’.\n",
    "3. Change the name column to the title case (e.g: Jason Mraz).\n",
    "4. Make a new “email” column with the form: {last_name}.{first_name}.{id}@yourcompany.com\n",
    "5. Change the phone number column to the format “84……”\n",
    "6. Find any duplicated ID and remove those who join later.\n",
    "7. Filter those who join since 2019 and export to a csv file, file name “emp_{report_date}.csv” with report_date = today."
   ]
  },
  {
   "cell_type": "markdown",
   "metadata": {},
   "source": [
    "# Add File "
   ]
  },
  {
   "cell_type": "code",
   "execution_count": 751,
   "metadata": {},
   "outputs": [],
   "source": [
    "import pandas as pd\n",
    "from datetime import datetime\n",
    "from datetime import time\n",
    "from datetime import date"
   ]
  },
  {
   "cell_type": "code",
   "execution_count": 752,
   "metadata": {},
   "outputs": [],
   "source": [
    "df = pd.read_csv('data_source_clean/messy.xlsx - test.csv')"
   ]
  },
  {
   "cell_type": "markdown",
   "metadata": {},
   "source": [
    "### Clean the names of columns to lowercase and remove any empty columns if necessary"
   ]
  },
  {
   "cell_type": "code",
   "execution_count": 753,
   "metadata": {},
   "outputs": [
    {
     "data": {
      "text/plain": [
       "Index(['CUst ID', '  JOIN% DATE', 'Unnamed: 2', 'mobiles', '  FLL NAM'], dtype='object')"
      ]
     },
     "execution_count": 753,
     "metadata": {},
     "output_type": "execute_result"
    }
   ],
   "source": [
    "df.columns"
   ]
  },
  {
   "cell_type": "code",
   "execution_count": 754,
   "metadata": {},
   "outputs": [],
   "source": [
    "df.rename(columns={\n",
    "                    'CUst ID':'customer id'\n",
    "                    , '  JOIN% DATE' :'date'\n",
    "                    , 'mobiles' : 'phone'\n",
    "                    , '  FLL NAM' : 'full name'\n",
    "                  } , inplace=True\n",
    "          )"
   ]
  },
  {
   "cell_type": "code",
   "execution_count": 755,
   "metadata": {},
   "outputs": [],
   "source": [
    "df.drop(columns=['Unnamed: 2'] , inplace=True)"
   ]
  },
  {
   "cell_type": "markdown",
   "metadata": {},
   "source": [
    "### Change the name column to the title case (e.g: Jason Mraz)"
   ]
  },
  {
   "cell_type": "code",
   "execution_count": 756,
   "metadata": {},
   "outputs": [],
   "source": [
    "df['full name'] = df['full name'].str.title()"
   ]
  },
  {
   "cell_type": "markdown",
   "metadata": {},
   "source": [
    "### Change the date column to the same format ‘YYYY-MM-DD’."
   ]
  },
  {
   "cell_type": "code",
   "execution_count": 757,
   "metadata": {},
   "outputs": [
    {
     "name": "stdout",
     "output_type": "stream",
     "text": [
      "<class 'pandas.core.frame.DataFrame'>\n",
      "RangeIndex: 100 entries, 0 to 99\n",
      "Data columns (total 4 columns):\n",
      " #   Column       Non-Null Count  Dtype \n",
      "---  ------       --------------  ----- \n",
      " 0   customer id  100 non-null    int64 \n",
      " 1   date         100 non-null    object\n",
      " 2   phone        100 non-null    int64 \n",
      " 3   full name    100 non-null    object\n",
      "dtypes: int64(2), object(2)\n",
      "memory usage: 3.2+ KB\n"
     ]
    }
   ],
   "source": [
    "df.info()"
   ]
  },
  {
   "cell_type": "markdown",
   "metadata": {},
   "source": [
    "### Change the date column to the same format ‘YYYY-MM-DD’"
   ]
  },
  {
   "cell_type": "code",
   "execution_count": 758,
   "metadata": {},
   "outputs": [],
   "source": [
    "def transfer_datetime(x):\n",
    "    d = x.split(' ')\n",
    "    if len(d) > 1:\n",
    "        return pd.to_datetime(d[0] , format='%Y-%m-%d') \n",
    "    elif '/' in x:\n",
    "        return pd.to_datetime(x, format='%d/%m/%y')\n",
    "    elif len(x) == 8:\n",
    "        return pd.to_datetime(x, format='%Y%m%d')\n",
    "    else:\n",
    "        return print(x)"
   ]
  },
  {
   "cell_type": "code",
   "execution_count": 759,
   "metadata": {},
   "outputs": [],
   "source": [
    "df['date'] = df['date'].apply(transfer_datetime)"
   ]
  },
  {
   "cell_type": "markdown",
   "metadata": {},
   "source": [
    "### Change the phone number column to the format “84……”"
   ]
  },
  {
   "cell_type": "code",
   "execution_count": 760,
   "metadata": {},
   "outputs": [],
   "source": [
    "df['phone'] = df['phone'].astype(str)"
   ]
  },
  {
   "cell_type": "code",
   "execution_count": 767,
   "metadata": {},
   "outputs": [],
   "source": [
    "def clean_phone(x):\n",
    "    if x[0:2] != '84':\n",
    "        return '84' + x\n",
    "    else:\n",
    "        return x"
   ]
  },
  {
   "cell_type": "code",
   "execution_count": 768,
   "metadata": {},
   "outputs": [],
   "source": [
    "df['phone'] = df['phone'].apply(clean_phone)"
   ]
  },
  {
   "cell_type": "markdown",
   "metadata": {},
   "source": [
    "### Make a new “email” column with the form: {last_name}.{first_name}.{id}@yourcompany.com"
   ]
  },
  {
   "cell_type": "code",
   "execution_count": 784,
   "metadata": {},
   "outputs": [
    {
     "data": {
      "text/html": [
       "<div>\n",
       "<style scoped>\n",
       "    .dataframe tbody tr th:only-of-type {\n",
       "        vertical-align: middle;\n",
       "    }\n",
       "\n",
       "    .dataframe tbody tr th {\n",
       "        vertical-align: top;\n",
       "    }\n",
       "\n",
       "    .dataframe thead th {\n",
       "        text-align: right;\n",
       "    }\n",
       "</style>\n",
       "<table border=\"1\" class=\"dataframe\">\n",
       "  <thead>\n",
       "    <tr style=\"text-align: right;\">\n",
       "      <th></th>\n",
       "      <th>customer id</th>\n",
       "      <th>date</th>\n",
       "      <th>phone</th>\n",
       "      <th>full name</th>\n",
       "    </tr>\n",
       "  </thead>\n",
       "  <tbody>\n",
       "    <tr>\n",
       "      <th>42</th>\n",
       "      <td>43</td>\n",
       "      <td>2018-10-18</td>\n",
       "      <td>841288318360</td>\n",
       "      <td>Marta Wong</td>\n",
       "    </tr>\n",
       "    <tr>\n",
       "      <th>10</th>\n",
       "      <td>11</td>\n",
       "      <td>2019-07-10</td>\n",
       "      <td>84973180839</td>\n",
       "      <td>Otis Arnold</td>\n",
       "    </tr>\n",
       "    <tr>\n",
       "      <th>5</th>\n",
       "      <td>21</td>\n",
       "      <td>2018-06-02</td>\n",
       "      <td>84339769174</td>\n",
       "      <td>Roger Callender</td>\n",
       "    </tr>\n",
       "    <tr>\n",
       "      <th>36</th>\n",
       "      <td>37</td>\n",
       "      <td>2018-03-18</td>\n",
       "      <td>84334929973</td>\n",
       "      <td>Joseph Nebergall</td>\n",
       "    </tr>\n",
       "    <tr>\n",
       "      <th>28</th>\n",
       "      <td>29</td>\n",
       "      <td>2018-02-25</td>\n",
       "      <td>84971748428</td>\n",
       "      <td>Tom Faust</td>\n",
       "    </tr>\n",
       "    <tr>\n",
       "      <th>48</th>\n",
       "      <td>49</td>\n",
       "      <td>2018-07-27</td>\n",
       "      <td>84333827249</td>\n",
       "      <td>Bok Mcmullen</td>\n",
       "    </tr>\n",
       "    <tr>\n",
       "      <th>65</th>\n",
       "      <td>66</td>\n",
       "      <td>2019-09-12</td>\n",
       "      <td>84869366677</td>\n",
       "      <td>Florence Luallen</td>\n",
       "    </tr>\n",
       "    <tr>\n",
       "      <th>44</th>\n",
       "      <td>45</td>\n",
       "      <td>2018-08-03</td>\n",
       "      <td>841285237717</td>\n",
       "      <td>Michael Fields</td>\n",
       "    </tr>\n",
       "    <tr>\n",
       "      <th>58</th>\n",
       "      <td>25</td>\n",
       "      <td>2019-07-16</td>\n",
       "      <td>84867037738</td>\n",
       "      <td>Arthur Branham</td>\n",
       "    </tr>\n",
       "    <tr>\n",
       "      <th>25</th>\n",
       "      <td>26</td>\n",
       "      <td>2017-08-07</td>\n",
       "      <td>84966042581</td>\n",
       "      <td>Charles Garnand</td>\n",
       "    </tr>\n",
       "  </tbody>\n",
       "</table>\n",
       "</div>"
      ],
      "text/plain": [
       "    customer id       date         phone         full name\n",
       "42           43 2018-10-18  841288318360        Marta Wong\n",
       "10           11 2019-07-10   84973180839       Otis Arnold\n",
       "5            21 2018-06-02   84339769174   Roger Callender\n",
       "36           37 2018-03-18   84334929973  Joseph Nebergall\n",
       "28           29 2018-02-25   84971748428         Tom Faust\n",
       "48           49 2018-07-27   84333827249      Bok Mcmullen\n",
       "65           66 2019-09-12   84869366677  Florence Luallen\n",
       "44           45 2018-08-03  841285237717    Michael Fields\n",
       "58           25 2019-07-16   84867037738    Arthur Branham\n",
       "25           26 2017-08-07   84966042581   Charles Garnand"
      ]
     },
     "execution_count": 784,
     "metadata": {},
     "output_type": "execute_result"
    }
   ],
   "source": [
    "df.sample(10)"
   ]
  },
  {
   "cell_type": "code",
   "execution_count": 810,
   "metadata": {},
   "outputs": [],
   "source": [
    "df['email'] = df['customer id'].astype(str) + ' ' + df['full name']"
   ]
  },
  {
   "cell_type": "code",
   "execution_count": 828,
   "metadata": {},
   "outputs": [],
   "source": [
    "def format_email (x):\n",
    "    n = x.split(' ')\n",
    "    if len(n) ==3:\n",
    "        return n[1] + '.' + n[2] + '.' + n[0] + '@yourcompany.com'\n",
    "    else:\n",
    "        pass"
   ]
  },
  {
   "cell_type": "code",
   "execution_count": 832,
   "metadata": {},
   "outputs": [],
   "source": [
    "df['email'] = df['email'].apply(format_email)"
   ]
  },
  {
   "cell_type": "code",
   "execution_count": 833,
   "metadata": {},
   "outputs": [
    {
     "data": {
      "text/html": [
       "<div>\n",
       "<style scoped>\n",
       "    .dataframe tbody tr th:only-of-type {\n",
       "        vertical-align: middle;\n",
       "    }\n",
       "\n",
       "    .dataframe tbody tr th {\n",
       "        vertical-align: top;\n",
       "    }\n",
       "\n",
       "    .dataframe thead th {\n",
       "        text-align: right;\n",
       "    }\n",
       "</style>\n",
       "<table border=\"1\" class=\"dataframe\">\n",
       "  <thead>\n",
       "    <tr style=\"text-align: right;\">\n",
       "      <th></th>\n",
       "      <th>customer id</th>\n",
       "      <th>date</th>\n",
       "      <th>phone</th>\n",
       "      <th>full name</th>\n",
       "      <th>email</th>\n",
       "    </tr>\n",
       "  </thead>\n",
       "  <tbody>\n",
       "    <tr>\n",
       "      <th>70</th>\n",
       "      <td>71</td>\n",
       "      <td>2018-02-02</td>\n",
       "      <td>841269552874</td>\n",
       "      <td>Lorretta Douthitt</td>\n",
       "      <td>Lorretta.Douthitt.71@yourcompany.com</td>\n",
       "    </tr>\n",
       "    <tr>\n",
       "      <th>32</th>\n",
       "      <td>33</td>\n",
       "      <td>2019-07-23</td>\n",
       "      <td>84974404339</td>\n",
       "      <td>Lawrence Cummings</td>\n",
       "      <td>Lawrence.Cummings.33@yourcompany.com</td>\n",
       "    </tr>\n",
       "    <tr>\n",
       "      <th>92</th>\n",
       "      <td>58</td>\n",
       "      <td>2018-12-27</td>\n",
       "      <td>841266030416</td>\n",
       "      <td>Miguel Budreau</td>\n",
       "      <td>Miguel.Budreau.58@yourcompany.com</td>\n",
       "    </tr>\n",
       "    <tr>\n",
       "      <th>1</th>\n",
       "      <td>2</td>\n",
       "      <td>2018-10-09</td>\n",
       "      <td>84973444062</td>\n",
       "      <td>Andrew Jimenez</td>\n",
       "      <td>Andrew.Jimenez.2@yourcompany.com</td>\n",
       "    </tr>\n",
       "    <tr>\n",
       "      <th>84</th>\n",
       "      <td>85</td>\n",
       "      <td>2018-07-29</td>\n",
       "      <td>841261554976</td>\n",
       "      <td>Robert Streater</td>\n",
       "      <td>Robert.Streater.85@yourcompany.com</td>\n",
       "    </tr>\n",
       "    <tr>\n",
       "      <th>40</th>\n",
       "      <td>41</td>\n",
       "      <td>2019-01-01</td>\n",
       "      <td>841267025689</td>\n",
       "      <td>Elizabeth Herrington</td>\n",
       "      <td>Elizabeth.Herrington.41@yourcompany.com</td>\n",
       "    </tr>\n",
       "    <tr>\n",
       "      <th>20</th>\n",
       "      <td>21</td>\n",
       "      <td>2017-08-30</td>\n",
       "      <td>841227138894</td>\n",
       "      <td>Angie Davis</td>\n",
       "      <td>Angie.Davis.21@yourcompany.com</td>\n",
       "    </tr>\n",
       "    <tr>\n",
       "      <th>57</th>\n",
       "      <td>24</td>\n",
       "      <td>2018-06-05</td>\n",
       "      <td>84341879989</td>\n",
       "      <td>Janet Doughty</td>\n",
       "      <td>Janet.Doughty.24@yourcompany.com</td>\n",
       "    </tr>\n",
       "    <tr>\n",
       "      <th>65</th>\n",
       "      <td>66</td>\n",
       "      <td>2019-09-12</td>\n",
       "      <td>84869366677</td>\n",
       "      <td>Florence Luallen</td>\n",
       "      <td>Florence.Luallen.66@yourcompany.com</td>\n",
       "    </tr>\n",
       "    <tr>\n",
       "      <th>48</th>\n",
       "      <td>49</td>\n",
       "      <td>2018-07-27</td>\n",
       "      <td>84333827249</td>\n",
       "      <td>Bok Mcmullen</td>\n",
       "      <td>Bok.Mcmullen.49@yourcompany.com</td>\n",
       "    </tr>\n",
       "  </tbody>\n",
       "</table>\n",
       "</div>"
      ],
      "text/plain": [
       "    customer id       date         phone             full name  \\\n",
       "70           71 2018-02-02  841269552874     Lorretta Douthitt   \n",
       "32           33 2019-07-23   84974404339     Lawrence Cummings   \n",
       "92           58 2018-12-27  841266030416        Miguel Budreau   \n",
       "1             2 2018-10-09   84973444062        Andrew Jimenez   \n",
       "84           85 2018-07-29  841261554976       Robert Streater   \n",
       "40           41 2019-01-01  841267025689  Elizabeth Herrington   \n",
       "20           21 2017-08-30  841227138894           Angie Davis   \n",
       "57           24 2018-06-05   84341879989         Janet Doughty   \n",
       "65           66 2019-09-12   84869366677      Florence Luallen   \n",
       "48           49 2018-07-27   84333827249          Bok Mcmullen   \n",
       "\n",
       "                                      email  \n",
       "70     Lorretta.Douthitt.71@yourcompany.com  \n",
       "32     Lawrence.Cummings.33@yourcompany.com  \n",
       "92        Miguel.Budreau.58@yourcompany.com  \n",
       "1          Andrew.Jimenez.2@yourcompany.com  \n",
       "84       Robert.Streater.85@yourcompany.com  \n",
       "40  Elizabeth.Herrington.41@yourcompany.com  \n",
       "20           Angie.Davis.21@yourcompany.com  \n",
       "57         Janet.Doughty.24@yourcompany.com  \n",
       "65      Florence.Luallen.66@yourcompany.com  \n",
       "48          Bok.Mcmullen.49@yourcompany.com  "
      ]
     },
     "execution_count": 833,
     "metadata": {},
     "output_type": "execute_result"
    }
   ],
   "source": [
    "df.sample(10)"
   ]
  },
  {
   "cell_type": "markdown",
   "metadata": {},
   "source": [
    "### Find any duplicated ID and remove those who join later.\n"
   ]
  },
  {
   "cell_type": "code",
   "execution_count": 843,
   "metadata": {},
   "outputs": [],
   "source": [
    "df.drop_duplicates('customer id' , keep = 'first' , inplace=True)"
   ]
  },
  {
   "cell_type": "code",
   "execution_count": 844,
   "metadata": {},
   "outputs": [
    {
     "data": {
      "text/html": [
       "<div>\n",
       "<style scoped>\n",
       "    .dataframe tbody tr th:only-of-type {\n",
       "        vertical-align: middle;\n",
       "    }\n",
       "\n",
       "    .dataframe tbody tr th {\n",
       "        vertical-align: top;\n",
       "    }\n",
       "\n",
       "    .dataframe thead th {\n",
       "        text-align: right;\n",
       "    }\n",
       "</style>\n",
       "<table border=\"1\" class=\"dataframe\">\n",
       "  <thead>\n",
       "    <tr style=\"text-align: right;\">\n",
       "      <th></th>\n",
       "      <th>customer id</th>\n",
       "      <th>date</th>\n",
       "      <th>phone</th>\n",
       "      <th>full name</th>\n",
       "      <th>email</th>\n",
       "    </tr>\n",
       "  </thead>\n",
       "  <tbody>\n",
       "  </tbody>\n",
       "</table>\n",
       "</div>"
      ],
      "text/plain": [
       "Empty DataFrame\n",
       "Columns: [customer id, date, phone, full name, email]\n",
       "Index: []"
      ]
     },
     "execution_count": 844,
     "metadata": {},
     "output_type": "execute_result"
    }
   ],
   "source": [
    "df.loc[df['customer id'].duplicated()]"
   ]
  },
  {
   "cell_type": "markdown",
   "metadata": {},
   "source": [
    "### Filter those who join since 2019 and export to a csv file, file name “emp_{report_date}.csv” with report_date = today."
   ]
  },
  {
   "cell_type": "code",
   "execution_count": 847,
   "metadata": {},
   "outputs": [],
   "source": [
    "df_19  = df.loc[df['date'].dt.year == 2019]"
   ]
  },
  {
   "cell_type": "code",
   "execution_count": 850,
   "metadata": {},
   "outputs": [],
   "source": [
    "df_19.to_csv('emp_{}.csv'.format(date.today()))"
   ]
  }
 ],
 "metadata": {
  "kernelspec": {
   "display_name": "base",
   "language": "python",
   "name": "python3"
  },
  "language_info": {
   "codemirror_mode": {
    "name": "ipython",
    "version": 3
   },
   "file_extension": ".py",
   "mimetype": "text/x-python",
   "name": "python",
   "nbconvert_exporter": "python",
   "pygments_lexer": "ipython3",
   "version": "3.10.9"
  },
  "orig_nbformat": 4
 },
 "nbformat": 4,
 "nbformat_minor": 2
}
